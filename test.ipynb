{
 "cells": [
  {
   "cell_type": "markdown",
   "metadata": {},
   "source": [
    "# Test of python notebook"
   ]
  },
  {
   "cell_type": "code",
   "execution_count": 2,
   "metadata": {},
   "outputs": [
    {
     "data": {
      "text/plain": [
       "2"
      ]
     },
     "execution_count": 2,
     "metadata": {},
     "output_type": "execute_result"
    }
   ],
   "source": [
    "1+1"
   ]
  },
  {
   "cell_type": "markdown",
   "metadata": {},
   "source": [
    "\n",
    "First you start with exploratory data analysis, so this notebook is highly recommended to have a look at: [https://nbviewer.jupyter.org/github/Tanu-N-Prabhu/Python/blob/master/Exploratory_data_Analysis.ipynb](https://nbviewer.jupyter.org/github/Tanu-N-Prabhu/Python/blob/master/Exploratory_data_Analysis.ipynb)\n",
    "\n",
    "For data integration / cleansing at a smaller scale, the python library pandas is often used. Please have a look at this notebook: [https://towardsdatascience.com/data-cleaning-with-python-using-pandas-library-c6f4a68ea8eb](https://towardsdatascience.com/data-cleaning-with-python-using-pandas-library-c6f4a68ea8eb)\n",
    "\n",
    "If you want to already experience what clustering is, have a look at this: [https://nbviewer.jupyter.org/github/temporaer/tutorial_ml_gkbionics/blob/master/2%20-%20KMeans.ipynb](https://nbviewer.jupyter.org/github/temporaer/tutorial_ml_gkbionics/blob/master/2%20-%20KMeans.ipynb)\n",
    "\n",
    "And finally, if you want to go for a more in-depth notebook on the iris dataset have a look here: [https://www.kaggle.com/lalitharajesh/iris-dataset-exploratory-data-analysis](https://www.kaggle.com/lalitharajesh/iris-dataset-exploratory-data-analysis)"
   ]
  }
 ],
 "metadata": {
  "kernelspec": {
   "display_name": "Python 3.10.6 64-bit",
   "language": "python",
   "name": "python3"
  },
  "language_info": {
   "codemirror_mode": {
    "name": "ipython",
    "version": 3
   },
   "file_extension": ".py",
   "mimetype": "text/x-python",
   "name": "python",
   "nbconvert_exporter": "python",
   "pygments_lexer": "ipython3",
   "version": "3.10.6"
  },
  "orig_nbformat": 4,
  "vscode": {
   "interpreter": {
    "hash": "d022b3db70b5bddc37707c758932324ccaced5c178d215fbcf6f448905846731"
   }
  }
 },
 "nbformat": 4,
 "nbformat_minor": 2
}
